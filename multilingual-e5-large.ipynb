{
 "cells": [
  {
   "cell_type": "code",
   "execution_count": 1,
   "id": "cf6799fa-1bfd-40d7-b3cd-6aa9543fec9a",
   "metadata": {},
   "outputs": [],
   "source": [
    "import pandas as pd\n",
    "import numpy as np"
   ]
  },
  {
   "cell_type": "code",
   "execution_count": 2,
   "id": "e742eee5-cbe7-48fc-9ed9-26d318226691",
   "metadata": {},
   "outputs": [],
   "source": [
    "# Load & preprocess data\n",
    "df=pd.read_excel(\"Arabic_English_Translation.xlsx\")"
   ]
  },
  {
   "cell_type": "code",
   "execution_count": 3,
   "id": "a9df077d-37e0-4515-9a10-d14b5d015ca6",
   "metadata": {},
   "outputs": [
    {
     "data": {
      "text/plain": [
       "(48, 3)"
      ]
     },
     "execution_count": 3,
     "metadata": {},
     "output_type": "execute_result"
    }
   ],
   "source": [
    "df.shape"
   ]
  },
  {
   "cell_type": "code",
   "execution_count": 4,
   "id": "d07e2652-0695-4312-8e10-edb0b410e126",
   "metadata": {},
   "outputs": [
    {
     "data": {
      "text/plain": [
       "Index(['ID', 'Arabic', 'Translation'], dtype='object')"
      ]
     },
     "execution_count": 4,
     "metadata": {},
     "output_type": "execute_result"
    }
   ],
   "source": [
    "df.columns"
   ]
  },
  {
   "cell_type": "code",
   "execution_count": 5,
   "id": "d1c83496-9231-41c3-a914-e0651fb489c1",
   "metadata": {},
   "outputs": [
    {
     "data": {
      "text/html": [
       "<div>\n",
       "<style scoped>\n",
       "    .dataframe tbody tr th:only-of-type {\n",
       "        vertical-align: middle;\n",
       "    }\n",
       "\n",
       "    .dataframe tbody tr th {\n",
       "        vertical-align: top;\n",
       "    }\n",
       "\n",
       "    .dataframe thead th {\n",
       "        text-align: right;\n",
       "    }\n",
       "</style>\n",
       "<table border=\"1\" class=\"dataframe\">\n",
       "  <thead>\n",
       "    <tr style=\"text-align: right;\">\n",
       "      <th></th>\n",
       "      <th>ID</th>\n",
       "      <th>Arabic</th>\n",
       "      <th>Translation</th>\n",
       "    </tr>\n",
       "  </thead>\n",
       "  <tbody>\n",
       "    <tr>\n",
       "      <th>0</th>\n",
       "      <td>105|1</td>\n",
       "      <td>اَلَمۡ تَرَ کَیۡفَ فَعَلَ رَبُّکَ بِاَصۡحٰبِ ا...</td>\n",
       "      <td>Seest thou not how thy Lord dealt with the Com...</td>\n",
       "    </tr>\n",
       "    <tr>\n",
       "      <th>1</th>\n",
       "      <td>105|2</td>\n",
       "      <td>اَلَمۡ یَجۡعَلۡ کَیۡدَہُمۡ فِیۡ تَضۡلِیۡلٍ</td>\n",
       "      <td>Did He not make their treacherous plan go astray?</td>\n",
       "    </tr>\n",
       "    <tr>\n",
       "      <th>2</th>\n",
       "      <td>105|3</td>\n",
       "      <td>وَّ اَرۡسَلَ عَلَیۡہِمۡ طَیۡرًا اَبَابِیۡلَ</td>\n",
       "      <td>And He sent against them Flights of Birds,</td>\n",
       "    </tr>\n",
       "    <tr>\n",
       "      <th>3</th>\n",
       "      <td>105|4</td>\n",
       "      <td>تَرۡمِیۡہِمۡ بِحِجَارَۃٍ مِّنۡ سِجِّیۡلٍ</td>\n",
       "      <td>Striking them with stones of baked clay.</td>\n",
       "    </tr>\n",
       "    <tr>\n",
       "      <th>4</th>\n",
       "      <td>105|5</td>\n",
       "      <td>فَجَعَلَہُمۡ کَعَصۡفٍ مَّاۡکُوۡلٍ</td>\n",
       "      <td>Then did He make them like an empty field of s...</td>\n",
       "    </tr>\n",
       "    <tr>\n",
       "      <th>5</th>\n",
       "      <td>106|1</td>\n",
       "      <td>لِاِیۡلٰفِ قُرَیۡشٍ</td>\n",
       "      <td>For the covenants (of security and safeguard e...</td>\n",
       "    </tr>\n",
       "    <tr>\n",
       "      <th>6</th>\n",
       "      <td>106|2</td>\n",
       "      <td>اٖلٰفِہِمۡ رِحۡلَۃَ الشِّتَآءِ وَ الصَّیۡفِ</td>\n",
       "      <td>Their covenants (covering) journeys by winter ...</td>\n",
       "    </tr>\n",
       "    <tr>\n",
       "      <th>7</th>\n",
       "      <td>106|3</td>\n",
       "      <td>فَلۡیَعۡبُدُوۡا رَبَّ ہٰذَا الۡبَیۡتِ</td>\n",
       "      <td>Let them adore the Lord of this House,</td>\n",
       "    </tr>\n",
       "    <tr>\n",
       "      <th>8</th>\n",
       "      <td>106|4</td>\n",
       "      <td>الَّذِیۡۤ اَطۡعَمَہُمۡ مِّنۡ جُوۡعٍ ۬ ۙ وَّ اٰ...</td>\n",
       "      <td>Who provides them with food against hunger, an...</td>\n",
       "    </tr>\n",
       "    <tr>\n",
       "      <th>9</th>\n",
       "      <td>107|1</td>\n",
       "      <td>اَرَءَیۡتَ الَّذِیۡ یُکَذِّبُ بِالدِّیۡنِ</td>\n",
       "      <td>Seest thou one who denies the Judgment (to come)?</td>\n",
       "    </tr>\n",
       "    <tr>\n",
       "      <th>10</th>\n",
       "      <td>107|2</td>\n",
       "      <td>فَذٰلِکَ الَّذِیۡ یَدُعُّ الۡیَتِیۡمَ</td>\n",
       "      <td>Then such is the (man) who repulses the orphan...</td>\n",
       "    </tr>\n",
       "    <tr>\n",
       "      <th>11</th>\n",
       "      <td>107|3</td>\n",
       "      <td>وَ لَا یَحُضُّ عَلٰی طَعَامِ الۡمِسۡکِیۡنِ</td>\n",
       "      <td>And encourages not the feeding of the indigent.</td>\n",
       "    </tr>\n",
       "    <tr>\n",
       "      <th>12</th>\n",
       "      <td>107|4</td>\n",
       "      <td>فَوَیۡلٌ لِّلۡمُصَلِّیۡنَ</td>\n",
       "      <td>So woe to the worshippers</td>\n",
       "    </tr>\n",
       "    <tr>\n",
       "      <th>13</th>\n",
       "      <td>107|5</td>\n",
       "      <td>الَّذِیۡنَ ہُمۡ عَنۡ صَلَاتِہِمۡ سَاہُوۡنَ</td>\n",
       "      <td>Who are neglectful of their prayers,</td>\n",
       "    </tr>\n",
       "    <tr>\n",
       "      <th>14</th>\n",
       "      <td>107|6</td>\n",
       "      <td>الَّذِیۡنَ ہُمۡ یُرَآءُوۡنَ</td>\n",
       "      <td>Those who (want but) to be seen (of men),</td>\n",
       "    </tr>\n",
       "    <tr>\n",
       "      <th>15</th>\n",
       "      <td>107|7</td>\n",
       "      <td>وَ یَمۡنَعُوۡنَ الۡمَاعُوۡنَ</td>\n",
       "      <td>But refuse (to supply) (even) neighbourly needs.</td>\n",
       "    </tr>\n",
       "    <tr>\n",
       "      <th>16</th>\n",
       "      <td>108|1</td>\n",
       "      <td>اِنَّاۤ اَعۡطَیۡنٰکَ الۡکَوۡثَرَ</td>\n",
       "      <td>To thee have We granted the Fount (of Abundance).</td>\n",
       "    </tr>\n",
       "    <tr>\n",
       "      <th>17</th>\n",
       "      <td>108|2</td>\n",
       "      <td>فَصَلِّ لِرَبِّکَ وَ انۡحَرۡ</td>\n",
       "      <td>Therefore to thy Lord turn in Prayer and Sacri...</td>\n",
       "    </tr>\n",
       "    <tr>\n",
       "      <th>18</th>\n",
       "      <td>108|3</td>\n",
       "      <td>اِنَّ شَانِئَکَ ہُوَ الۡاَبۡتَرُ</td>\n",
       "      <td>For he who hateth thee, he will be cut off (fr...</td>\n",
       "    </tr>\n",
       "    <tr>\n",
       "      <th>19</th>\n",
       "      <td>109|1</td>\n",
       "      <td>قُلۡ یٰۤاَیُّہَا الۡکٰفِرُوۡنَ</td>\n",
       "      <td>Say: O ye that reject Faith!</td>\n",
       "    </tr>\n",
       "    <tr>\n",
       "      <th>20</th>\n",
       "      <td>109|2</td>\n",
       "      <td>لَاۤ اَعۡبُدُ مَا تَعۡبُدُوۡنَ</td>\n",
       "      <td>I worship not that which ye worship,</td>\n",
       "    </tr>\n",
       "    <tr>\n",
       "      <th>21</th>\n",
       "      <td>109|3</td>\n",
       "      <td>وَ لَاۤ اَنۡتُمۡ عٰبِدُوۡنَ مَاۤ اَعۡبُدُ</td>\n",
       "      <td>Nor will ye worship that which I worship.</td>\n",
       "    </tr>\n",
       "    <tr>\n",
       "      <th>22</th>\n",
       "      <td>109|4</td>\n",
       "      <td>وَ لَاۤ اَنَا عَابِدٌ مَّا عَبَدۡتُّمۡ</td>\n",
       "      <td>And I will not worship that which ye have been...</td>\n",
       "    </tr>\n",
       "    <tr>\n",
       "      <th>23</th>\n",
       "      <td>109|5</td>\n",
       "      <td>وَ لَاۤ اَنۡتُمۡ عٰبِدُوۡنَ مَاۤ اَعۡبُدُ</td>\n",
       "      <td>Nor will ye worship that which I worship.</td>\n",
       "    </tr>\n",
       "    <tr>\n",
       "      <th>24</th>\n",
       "      <td>109|6</td>\n",
       "      <td>لَکُمۡ دِیۡنُکُمۡ وَلِیَ دِیۡنِ</td>\n",
       "      <td>To you be your Way, and to me mine.</td>\n",
       "    </tr>\n",
       "    <tr>\n",
       "      <th>25</th>\n",
       "      <td>110|1</td>\n",
       "      <td>اِذَا جَآءَ نَصۡرُ اللّٰہِ وَ الۡفَتۡحُ</td>\n",
       "      <td>When comes the Help of Allah, and Victory,</td>\n",
       "    </tr>\n",
       "    <tr>\n",
       "      <th>26</th>\n",
       "      <td>110|2</td>\n",
       "      <td>وَ رَاَیۡتَ النَّاسَ یَدۡخُلُوۡنَ فِیۡ دِیۡنِ ...</td>\n",
       "      <td>And thou dost see the people enter Allah's Rel...</td>\n",
       "    </tr>\n",
       "    <tr>\n",
       "      <th>27</th>\n",
       "      <td>110|3</td>\n",
       "      <td>فَسَبِّحۡ بِحَمۡدِ رَبِّکَ وَ اسۡتَغۡفِرۡہُ ؕ ...</td>\n",
       "      <td>Celebrate the praises of thy Lord, and pray fo...</td>\n",
       "    </tr>\n",
       "    <tr>\n",
       "      <th>28</th>\n",
       "      <td>111|1</td>\n",
       "      <td>تَبَّتۡ یَدَاۤ اَبِیۡ لَہَبٍ وَّ تَبَّ</td>\n",
       "      <td>Perish the hands of the Father of Flame! Peris...</td>\n",
       "    </tr>\n",
       "    <tr>\n",
       "      <th>29</th>\n",
       "      <td>111|2</td>\n",
       "      <td>مَاۤ اَغۡنٰی عَنۡہُ مَالُہٗ وَ مَا کَسَبَ</td>\n",
       "      <td>No profit to him from all his wealth, and all ...</td>\n",
       "    </tr>\n",
       "    <tr>\n",
       "      <th>30</th>\n",
       "      <td>111|3</td>\n",
       "      <td>سَیَصۡلٰی نَارًا ذَاتَ لَہَبٍ</td>\n",
       "      <td>Burnt soon will he be in a Fire of Blazing Flame!</td>\n",
       "    </tr>\n",
       "    <tr>\n",
       "      <th>31</th>\n",
       "      <td>111|4</td>\n",
       "      <td>وَّ امۡرَاَتُہٗ ؕ حَمَّالَۃَ الۡحَطَبِ</td>\n",
       "      <td>His wife shall carry the (crackling) wood - As...</td>\n",
       "    </tr>\n",
       "    <tr>\n",
       "      <th>32</th>\n",
       "      <td>111|5</td>\n",
       "      <td>فِیۡ جِیۡدِہَا حَبۡلٌ مِّنۡ مَّسَدٍ</td>\n",
       "      <td>A twisted rope of palm-leaf fibre round her (o...</td>\n",
       "    </tr>\n",
       "    <tr>\n",
       "      <th>33</th>\n",
       "      <td>112|1</td>\n",
       "      <td>قُلۡ ہُوَ اللّٰہُ اَحَدٌ</td>\n",
       "      <td>Say: He is Allah, the One and Only;</td>\n",
       "    </tr>\n",
       "    <tr>\n",
       "      <th>34</th>\n",
       "      <td>112|2</td>\n",
       "      <td>اَللّٰہُ الصَّمَدُ</td>\n",
       "      <td>Allah, the Eternal, Absolute;</td>\n",
       "    </tr>\n",
       "    <tr>\n",
       "      <th>35</th>\n",
       "      <td>112|3</td>\n",
       "      <td>لَمۡ یَلِدۡ ۬ ۙ وَ لَمۡ یُوۡلَدۡ</td>\n",
       "      <td>He begetteth not, nor is He begotten;</td>\n",
       "    </tr>\n",
       "    <tr>\n",
       "      <th>36</th>\n",
       "      <td>112|4</td>\n",
       "      <td>وَ لَمۡ یَکُنۡ لَّہٗ کُفُوًا اَحَدٌ</td>\n",
       "      <td>And there is none like unto Him.</td>\n",
       "    </tr>\n",
       "    <tr>\n",
       "      <th>37</th>\n",
       "      <td>113|1</td>\n",
       "      <td>قُلۡ اَعُوۡذُ بِرَبِّ الۡفَلَقِ</td>\n",
       "      <td>Say: I seek refuge with the Lord of the Dawn</td>\n",
       "    </tr>\n",
       "    <tr>\n",
       "      <th>38</th>\n",
       "      <td>113|2</td>\n",
       "      <td>مِنۡ شَرِّ مَا خَلَقَ</td>\n",
       "      <td>From the mischief of created things;</td>\n",
       "    </tr>\n",
       "    <tr>\n",
       "      <th>39</th>\n",
       "      <td>113|3</td>\n",
       "      <td>وَ مِنۡ شَرِّ غَاسِقٍ اِذَا وَقَبَ</td>\n",
       "      <td>From the mischief of Darkness as it overspreads;</td>\n",
       "    </tr>\n",
       "    <tr>\n",
       "      <th>40</th>\n",
       "      <td>113|4</td>\n",
       "      <td>وَ مِنۡ شَرِّ النَّفّٰثٰتِ فِی الۡعُقَدِ</td>\n",
       "      <td>From the mischief of those who practise secret...</td>\n",
       "    </tr>\n",
       "    <tr>\n",
       "      <th>41</th>\n",
       "      <td>113|5</td>\n",
       "      <td>وَ مِنۡ شَرِّ حَاسِدٍ اِذَا حَسَدَ</td>\n",
       "      <td>And from the mischief of the envious one as he...</td>\n",
       "    </tr>\n",
       "    <tr>\n",
       "      <th>42</th>\n",
       "      <td>114|1</td>\n",
       "      <td>قُلۡ اَعُوۡذُ بِرَبِّ النَّاسِ</td>\n",
       "      <td>Say: I seek refuge with the Lord and Cherisher...</td>\n",
       "    </tr>\n",
       "    <tr>\n",
       "      <th>43</th>\n",
       "      <td>114|2</td>\n",
       "      <td>مَلِکِ النَّاسِ</td>\n",
       "      <td>The King (or Ruler) of Mankind,</td>\n",
       "    </tr>\n",
       "    <tr>\n",
       "      <th>44</th>\n",
       "      <td>114|3</td>\n",
       "      <td>اِلٰہِ النَّاسِ</td>\n",
       "      <td>The god (or judge) of Mankind,-</td>\n",
       "    </tr>\n",
       "    <tr>\n",
       "      <th>45</th>\n",
       "      <td>114|4</td>\n",
       "      <td>مِنۡ شَرِّ الۡوَسۡوَاسِ ۬ ۙ الۡخَنَّاسِ</td>\n",
       "      <td>From the mischief of the Whisperer (of Evil), ...</td>\n",
       "    </tr>\n",
       "    <tr>\n",
       "      <th>46</th>\n",
       "      <td>114|5</td>\n",
       "      <td>الَّذِیۡ یُوَسۡوِسُ فِیۡ صُدُوۡرِ النَّاسِ</td>\n",
       "      <td>(The same) who whispers into the hearts of Man...</td>\n",
       "    </tr>\n",
       "    <tr>\n",
       "      <th>47</th>\n",
       "      <td>114|6</td>\n",
       "      <td>مِنَ الۡجِنَّۃِ وَ النَّاسِ</td>\n",
       "      <td>Among Jinns and among men.</td>\n",
       "    </tr>\n",
       "  </tbody>\n",
       "</table>\n",
       "</div>"
      ],
      "text/plain": [
       "       ID                                             Arabic  \\\n",
       "0   105|1  اَلَمۡ تَرَ کَیۡفَ فَعَلَ رَبُّکَ بِاَصۡحٰبِ ا...   \n",
       "1   105|2         اَلَمۡ یَجۡعَلۡ کَیۡدَہُمۡ فِیۡ تَضۡلِیۡلٍ   \n",
       "2   105|3        وَّ اَرۡسَلَ عَلَیۡہِمۡ طَیۡرًا اَبَابِیۡلَ   \n",
       "3   105|4           تَرۡمِیۡہِمۡ بِحِجَارَۃٍ مِّنۡ سِجِّیۡلٍ   \n",
       "4   105|5                  فَجَعَلَہُمۡ کَعَصۡفٍ مَّاۡکُوۡلٍ   \n",
       "5   106|1                                لِاِیۡلٰفِ قُرَیۡشٍ   \n",
       "6   106|2       اٖلٰفِہِمۡ رِحۡلَۃَ الشِّتَآءِ وَ الصَّیۡفِ   \n",
       "7   106|3              فَلۡیَعۡبُدُوۡا رَبَّ ہٰذَا الۡبَیۡتِ   \n",
       "8   106|4  الَّذِیۡۤ اَطۡعَمَہُمۡ مِّنۡ جُوۡعٍ ۬ ۙ وَّ اٰ...   \n",
       "9   107|1          اَرَءَیۡتَ الَّذِیۡ یُکَذِّبُ بِالدِّیۡنِ   \n",
       "10  107|2              فَذٰلِکَ الَّذِیۡ یَدُعُّ الۡیَتِیۡمَ   \n",
       "11  107|3         وَ لَا یَحُضُّ عَلٰی طَعَامِ الۡمِسۡکِیۡنِ   \n",
       "12  107|4                          فَوَیۡلٌ لِّلۡمُصَلِّیۡنَ   \n",
       "13  107|5         الَّذِیۡنَ ہُمۡ عَنۡ صَلَاتِہِمۡ سَاہُوۡنَ   \n",
       "14  107|6                       الَّذِیۡنَ ہُمۡ یُرَآءُوۡنَ   \n",
       "15  107|7                       وَ یَمۡنَعُوۡنَ الۡمَاعُوۡنَ   \n",
       "16  108|1                   اِنَّاۤ اَعۡطَیۡنٰکَ الۡکَوۡثَرَ   \n",
       "17  108|2                       فَصَلِّ لِرَبِّکَ وَ انۡحَرۡ   \n",
       "18  108|3                   اِنَّ شَانِئَکَ ہُوَ الۡاَبۡتَرُ   \n",
       "19  109|1                     قُلۡ یٰۤاَیُّہَا الۡکٰفِرُوۡنَ   \n",
       "20  109|2                     لَاۤ اَعۡبُدُ مَا تَعۡبُدُوۡنَ   \n",
       "21  109|3          وَ لَاۤ اَنۡتُمۡ عٰبِدُوۡنَ مَاۤ اَعۡبُدُ   \n",
       "22  109|4             وَ لَاۤ اَنَا عَابِدٌ مَّا عَبَدۡتُّمۡ   \n",
       "23  109|5          وَ لَاۤ اَنۡتُمۡ عٰبِدُوۡنَ مَاۤ اَعۡبُدُ   \n",
       "24  109|6                    لَکُمۡ دِیۡنُکُمۡ وَلِیَ دِیۡنِ   \n",
       "25  110|1           اِذَا جَآءَ نَصۡرُ اللّٰہِ وَ الۡفَتۡحُ   \n",
       "26  110|2  وَ رَاَیۡتَ النَّاسَ یَدۡخُلُوۡنَ فِیۡ دِیۡنِ ...   \n",
       "27  110|3  فَسَبِّحۡ بِحَمۡدِ رَبِّکَ وَ اسۡتَغۡفِرۡہُ ؕ ...   \n",
       "28  111|1             تَبَّتۡ یَدَاۤ اَبِیۡ لَہَبٍ وَّ تَبَّ   \n",
       "29  111|2          مَاۤ اَغۡنٰی عَنۡہُ مَالُہٗ وَ مَا کَسَبَ   \n",
       "30  111|3                      سَیَصۡلٰی نَارًا ذَاتَ لَہَبٍ   \n",
       "31  111|4             وَّ امۡرَاَتُہٗ ؕ حَمَّالَۃَ الۡحَطَبِ   \n",
       "32  111|5                فِیۡ جِیۡدِہَا حَبۡلٌ مِّنۡ مَّسَدٍ   \n",
       "33  112|1                           قُلۡ ہُوَ اللّٰہُ اَحَدٌ   \n",
       "34  112|2                                 اَللّٰہُ الصَّمَدُ   \n",
       "35  112|3                   لَمۡ یَلِدۡ ۬ ۙ وَ لَمۡ یُوۡلَدۡ   \n",
       "36  112|4                وَ لَمۡ یَکُنۡ لَّہٗ کُفُوًا اَحَدٌ   \n",
       "37  113|1                    قُلۡ اَعُوۡذُ بِرَبِّ الۡفَلَقِ   \n",
       "38  113|2                              مِنۡ شَرِّ مَا خَلَقَ   \n",
       "39  113|3                 وَ مِنۡ شَرِّ غَاسِقٍ اِذَا وَقَبَ   \n",
       "40  113|4           وَ مِنۡ شَرِّ النَّفّٰثٰتِ فِی الۡعُقَدِ   \n",
       "41  113|5                 وَ مِنۡ شَرِّ حَاسِدٍ اِذَا حَسَدَ   \n",
       "42  114|1                     قُلۡ اَعُوۡذُ بِرَبِّ النَّاسِ   \n",
       "43  114|2                                    مَلِکِ النَّاسِ   \n",
       "44  114|3                                    اِلٰہِ النَّاسِ   \n",
       "45  114|4            مِنۡ شَرِّ الۡوَسۡوَاسِ ۬ ۙ الۡخَنَّاسِ   \n",
       "46  114|5         الَّذِیۡ یُوَسۡوِسُ فِیۡ صُدُوۡرِ النَّاسِ   \n",
       "47  114|6                        مِنَ الۡجِنَّۃِ وَ النَّاسِ   \n",
       "\n",
       "                                          Translation  \n",
       "0   Seest thou not how thy Lord dealt with the Com...  \n",
       "1   Did He not make their treacherous plan go astray?  \n",
       "2          And He sent against them Flights of Birds,  \n",
       "3            Striking them with stones of baked clay.  \n",
       "4   Then did He make them like an empty field of s...  \n",
       "5   For the covenants (of security and safeguard e...  \n",
       "6   Their covenants (covering) journeys by winter ...  \n",
       "7              Let them adore the Lord of this House,  \n",
       "8   Who provides them with food against hunger, an...  \n",
       "9   Seest thou one who denies the Judgment (to come)?  \n",
       "10  Then such is the (man) who repulses the orphan...  \n",
       "11    And encourages not the feeding of the indigent.  \n",
       "12                          So woe to the worshippers  \n",
       "13               Who are neglectful of their prayers,  \n",
       "14          Those who (want but) to be seen (of men),  \n",
       "15   But refuse (to supply) (even) neighbourly needs.  \n",
       "16  To thee have We granted the Fount (of Abundance).  \n",
       "17  Therefore to thy Lord turn in Prayer and Sacri...  \n",
       "18  For he who hateth thee, he will be cut off (fr...  \n",
       "19                       Say: O ye that reject Faith!  \n",
       "20               I worship not that which ye worship,  \n",
       "21          Nor will ye worship that which I worship.  \n",
       "22  And I will not worship that which ye have been...  \n",
       "23          Nor will ye worship that which I worship.  \n",
       "24                To you be your Way, and to me mine.  \n",
       "25         When comes the Help of Allah, and Victory,  \n",
       "26  And thou dost see the people enter Allah's Rel...  \n",
       "27  Celebrate the praises of thy Lord, and pray fo...  \n",
       "28  Perish the hands of the Father of Flame! Peris...  \n",
       "29  No profit to him from all his wealth, and all ...  \n",
       "30  Burnt soon will he be in a Fire of Blazing Flame!  \n",
       "31  His wife shall carry the (crackling) wood - As...  \n",
       "32  A twisted rope of palm-leaf fibre round her (o...  \n",
       "33                Say: He is Allah, the One and Only;  \n",
       "34                      Allah, the Eternal, Absolute;  \n",
       "35              He begetteth not, nor is He begotten;  \n",
       "36                   And there is none like unto Him.  \n",
       "37       Say: I seek refuge with the Lord of the Dawn  \n",
       "38               From the mischief of created things;  \n",
       "39   From the mischief of Darkness as it overspreads;  \n",
       "40  From the mischief of those who practise secret...  \n",
       "41  And from the mischief of the envious one as he...  \n",
       "42  Say: I seek refuge with the Lord and Cherisher...  \n",
       "43                    The King (or Ruler) of Mankind,  \n",
       "44                    The god (or judge) of Mankind,-  \n",
       "45  From the mischief of the Whisperer (of Evil), ...  \n",
       "46  (The same) who whispers into the hearts of Man...  \n",
       "47                         Among Jinns and among men.  "
      ]
     },
     "execution_count": 5,
     "metadata": {},
     "output_type": "execute_result"
    }
   ],
   "source": [
    "df"
   ]
  },
  {
   "cell_type": "code",
   "execution_count": 6,
   "id": "fc745d50-819f-4153-8b5a-d1668e54b348",
   "metadata": {},
   "outputs": [],
   "source": [
    "verses = []\n",
    "texts = []\n",
    "\n",
    "for idx, row in df.iterrows():\n",
    "    verse_id = str(row['ID'])\n",
    "    arabic_text = str(row['Arabic'])\n",
    "    translation = str(row['Translation'])\n",
    "    \n",
    "    # Combine Arabic and English for embedding\n",
    "    combined_text = f\"{arabic_text} {translation}\"\n",
    "    \n",
    "    verses.append({\n",
    "        'id': verse_id,\n",
    "        'arabic': arabic_text,\n",
    "        'translation': translation,\n",
    "        'combined_text': combined_text\n",
    "    })\n",
    "    texts.append(combined_text)"
   ]
  },
  {
   "cell_type": "code",
   "execution_count": 7,
   "id": "1cfc8d74-f703-419c-bc46-20fab7b57bca",
   "metadata": {},
   "outputs": [
    {
     "data": {
      "application/vnd.jupyter.widget-view+json": {
       "model_id": "fb5daac988c44957be0eea0ab61194d5",
       "version_major": 2,
       "version_minor": 0
      },
      "text/plain": [
       "modules.json:   0%|          | 0.00/387 [00:00<?, ?B/s]"
      ]
     },
     "metadata": {},
     "output_type": "display_data"
    },
    {
     "name": "stderr",
     "output_type": "stream",
     "text": [
      "C:\\Users\\MuhammadUsman\\miniconda3\\envs\\.venv\\Lib\\site-packages\\huggingface_hub\\file_download.py:143: UserWarning: `huggingface_hub` cache-system uses symlinks by default to efficiently store duplicated files but your machine does not support them in C:\\Users\\MuhammadUsman\\.cache\\huggingface\\hub\\models--intfloat--multilingual-e5-large. Caching files will still work but in a degraded version that might require more space on your disk. This warning can be disabled by setting the `HF_HUB_DISABLE_SYMLINKS_WARNING` environment variable. For more details, see https://huggingface.co/docs/huggingface_hub/how-to-cache#limitations.\n",
      "To support symlinks on Windows, you either need to activate Developer Mode or to run Python as an administrator. In order to activate developer mode, see this article: https://docs.microsoft.com/en-us/windows/apps/get-started/enable-your-device-for-development\n",
      "  warnings.warn(message)\n"
     ]
    },
    {
     "data": {
      "application/vnd.jupyter.widget-view+json": {
       "model_id": "43eed11bcc714839ab08267f36893a5f",
       "version_major": 2,
       "version_minor": 0
      },
      "text/plain": [
       "README.md:   0%|          | 0.00/160k [00:00<?, ?B/s]"
      ]
     },
     "metadata": {},
     "output_type": "display_data"
    },
    {
     "data": {
      "application/vnd.jupyter.widget-view+json": {
       "model_id": "00edf826332d4c03ae5a227017f1a159",
       "version_major": 2,
       "version_minor": 0
      },
      "text/plain": [
       "sentence_bert_config.json:   0%|          | 0.00/57.0 [00:00<?, ?B/s]"
      ]
     },
     "metadata": {},
     "output_type": "display_data"
    },
    {
     "data": {
      "application/vnd.jupyter.widget-view+json": {
       "model_id": "b9f1cf402d9e45629d9f481753d752ab",
       "version_major": 2,
       "version_minor": 0
      },
      "text/plain": [
       "config.json:   0%|          | 0.00/690 [00:00<?, ?B/s]"
      ]
     },
     "metadata": {},
     "output_type": "display_data"
    },
    {
     "data": {
      "application/vnd.jupyter.widget-view+json": {
       "model_id": "d586408dd9d44a09a3a272742d5989b7",
       "version_major": 2,
       "version_minor": 0
      },
      "text/plain": [
       "model.safetensors:   0%|          | 0.00/2.24G [00:00<?, ?B/s]"
      ]
     },
     "metadata": {},
     "output_type": "display_data"
    },
    {
     "data": {
      "application/vnd.jupyter.widget-view+json": {
       "model_id": "72d0494f534544f8a6f740bbf4f7012f",
       "version_major": 2,
       "version_minor": 0
      },
      "text/plain": [
       "tokenizer_config.json:   0%|          | 0.00/418 [00:00<?, ?B/s]"
      ]
     },
     "metadata": {},
     "output_type": "display_data"
    },
    {
     "data": {
      "application/vnd.jupyter.widget-view+json": {
       "model_id": "7db5b38fc82d4a4d87f5aec22ec0a5d8",
       "version_major": 2,
       "version_minor": 0
      },
      "text/plain": [
       "sentencepiece.bpe.model:   0%|          | 0.00/5.07M [00:00<?, ?B/s]"
      ]
     },
     "metadata": {},
     "output_type": "display_data"
    },
    {
     "data": {
      "application/vnd.jupyter.widget-view+json": {
       "model_id": "262a307f1b804781b5bf3bad90a61c8e",
       "version_major": 2,
       "version_minor": 0
      },
      "text/plain": [
       "tokenizer.json:   0%|          | 0.00/17.1M [00:00<?, ?B/s]"
      ]
     },
     "metadata": {},
     "output_type": "display_data"
    },
    {
     "data": {
      "application/vnd.jupyter.widget-view+json": {
       "model_id": "fba32a3cce464735bb82c23969c96680",
       "version_major": 2,
       "version_minor": 0
      },
      "text/plain": [
       "special_tokens_map.json:   0%|          | 0.00/280 [00:00<?, ?B/s]"
      ]
     },
     "metadata": {},
     "output_type": "display_data"
    },
    {
     "data": {
      "application/vnd.jupyter.widget-view+json": {
       "model_id": "097d4c76f487444c8b2b9195dde44ec9",
       "version_major": 2,
       "version_minor": 0
      },
      "text/plain": [
       "config.json:   0%|          | 0.00/201 [00:00<?, ?B/s]"
      ]
     },
     "metadata": {},
     "output_type": "display_data"
    }
   ],
   "source": [
    "from sentence_transformers import SentenceTransformer\n",
    "\n",
    "# Load a pretrained Sentence Transformer model\n",
    "model = SentenceTransformer(\"intfloat/multilingual-e5-large\")"
   ]
  },
  {
   "cell_type": "code",
   "execution_count": 8,
   "id": "81bb9543-04a9-4261-9167-2d6dcf54ea30",
   "metadata": {},
   "outputs": [
    {
     "data": {
      "text/plain": [
       "512"
      ]
     },
     "execution_count": 8,
     "metadata": {},
     "output_type": "execute_result"
    }
   ],
   "source": [
    "model.max_seq_length"
   ]
  },
  {
   "cell_type": "code",
   "execution_count": 9,
   "id": "04e21d2f-8c4f-442b-af01-42616db837ef",
   "metadata": {},
   "outputs": [
    {
     "data": {
      "application/vnd.jupyter.widget-view+json": {
       "model_id": "7596c7e7b58d4cfcb4aaa597125f63c3",
       "version_major": 2,
       "version_minor": 0
      },
      "text/plain": [
       "Batches:   0%|          | 0/2 [00:00<?, ?it/s]"
      ]
     },
     "metadata": {},
     "output_type": "display_data"
    }
   ],
   "source": [
    "# Generate Embeddings\n",
    "embeddings = model.encode(texts, convert_to_numpy=True, normalize_embeddings=True, show_progress_bar=True)"
   ]
  },
  {
   "cell_type": "code",
   "execution_count": 10,
   "id": "9ae44d3e-c66b-41d2-b244-e95a75a94f46",
   "metadata": {},
   "outputs": [
    {
     "data": {
      "text/plain": [
       "(48, 1024)"
      ]
     },
     "execution_count": 10,
     "metadata": {},
     "output_type": "execute_result"
    }
   ],
   "source": [
    "# Embeddings shape\n",
    "embeddings.shape"
   ]
  },
  {
   "cell_type": "code",
   "execution_count": 11,
   "id": "f5410381-07ca-4ec0-83d6-df3b423d4ca7",
   "metadata": {},
   "outputs": [
    {
     "data": {
      "text/plain": [
       "dtype('float32')"
      ]
     },
     "execution_count": 11,
     "metadata": {},
     "output_type": "execute_result"
    }
   ],
   "source": [
    "# Data type\n",
    "embeddings.dtype"
   ]
  },
  {
   "cell_type": "code",
   "execution_count": 12,
   "id": "58560103-3b11-4de5-a257-47c791c1531e",
   "metadata": {},
   "outputs": [],
   "source": [
    "import faiss\n",
    "dimension = embeddings.shape[1]\n",
    "index = faiss.IndexFlatIP(dimension)\n",
    "index.add(embeddings)"
   ]
  },
  {
   "cell_type": "code",
   "execution_count": 13,
   "id": "044a8af2-52e1-4150-bd47-fecff7f740a8",
   "metadata": {},
   "outputs": [],
   "source": [
    "# Define Search Function\n",
    "def search_verses(query, k):\n",
    "    print(f\"Query: '{query}'\")\n",
    "    \n",
    "    # Generate query embedding\n",
    "    query_embedding = model.encode([query])\n",
    "    print(f\"Query embedding shape: {query_embedding.shape}\")\n",
    "    \n",
    "    # Normalize query embedding\n",
    "    faiss.normalize_L2(query_embedding)\n",
    "    \n",
    "    # Search\n",
    "    scores, indices = index.search(query_embedding.astype(np.float32), k)\n",
    "    print(f\"Found {len(indices[0])} results.\")\n",
    "    \n",
    "    # Format results\n",
    "    results = []\n",
    "    for score, idx in zip(scores[0], indices[0]):\n",
    "        results.append({\n",
    "            'score': float(score),\n",
    "            'id': verses[idx]['id'],\n",
    "            'arabic': verses[idx]['arabic'],\n",
    "            'translation': verses[idx]['translation']\n",
    "        })\n",
    "    \n",
    "    return results"
   ]
  },
  {
   "cell_type": "code",
   "execution_count": 22,
   "id": "25c76796-10b6-48a7-9c36-83a834a74c6d",
   "metadata": {},
   "outputs": [
    {
     "name": "stdout",
     "output_type": "stream",
     "text": [
      "Query: 'What does the Qur’an say about the oneness of God?'\n",
      "Query embedding shape: (1, 1024)\n",
      "Found 3 results.\n"
     ]
    }
   ],
   "source": [
    "# Test Search\n",
    "query1 = \"What does the Qur’an say about the oneness of God?\"\n",
    "results1 = search_verses(query1, k=3)"
   ]
  },
  {
   "cell_type": "code",
   "execution_count": 23,
   "id": "566e507c-e38b-4b76-902d-7f14185faf84",
   "metadata": {},
   "outputs": [
    {
     "name": "stdout",
     "output_type": "stream",
     "text": [
      "Score: 0.8365\n",
      "Verse ID: 112|1\n",
      "Arabic: قُلۡ ہُوَ اللّٰہُ اَحَدٌ\n",
      "Translation: Say: He is Allah, the One and Only;\n",
      "Score: 0.8274\n",
      "Verse ID: 112|4\n",
      "Arabic: وَ لَمۡ یَکُنۡ لَّہٗ کُفُوًا اَحَدٌ\n",
      "Translation: And there is none like unto Him.\n",
      "Score: 0.8273\n",
      "Verse ID: 112|2\n",
      "Arabic: اَللّٰہُ الصَّمَدُ\n",
      "Translation: Allah, the Eternal, Absolute;\n"
     ]
    }
   ],
   "source": [
    "for i, result in enumerate(results1, 1):\n",
    "    print(f\"Score: {result['score']:.4f}\")\n",
    "    print(f\"Verse ID: {result['id']}\")\n",
    "    print(f\"Arabic: {result['arabic']}\")\n",
    "    print(f\"Translation: {result['translation']}\")"
   ]
  },
  {
   "cell_type": "code",
   "execution_count": 24,
   "id": "ac95183b-1809-4100-8ae4-70f27141d8ec",
   "metadata": {},
   "outputs": [
    {
     "name": "stdout",
     "output_type": "stream",
     "text": [
      "Query: 'From what does the Qur’an instruct us to seek refuge?'\n",
      "Query embedding shape: (1, 1024)\n",
      "Found 3 results.\n"
     ]
    }
   ],
   "source": [
    "# Test Search\n",
    "query2 = \"From what does the Qur’an instruct us to seek refuge?\"\n",
    "results2 = search_verses(query2, k=3)"
   ]
  },
  {
   "cell_type": "code",
   "execution_count": 25,
   "id": "46985d07-89d1-4cbd-ad87-465a32cd39e8",
   "metadata": {},
   "outputs": [
    {
     "name": "stdout",
     "output_type": "stream",
     "text": [
      "Score: 0.8314\n",
      "Verse ID: 114|1\n",
      "Arabic: قُلۡ اَعُوۡذُ بِرَبِّ النَّاسِ\n",
      "Translation: Say: I seek refuge with the Lord and Cherisher of Mankind,\n",
      "Score: 0.8303\n",
      "Verse ID: 113|1\n",
      "Arabic: قُلۡ اَعُوۡذُ بِرَبِّ الۡفَلَقِ\n",
      "Translation: Say: I seek refuge with the Lord of the Dawn\n",
      "Score: 0.8101\n",
      "Verse ID: 107|1\n",
      "Arabic: اَرَءَیۡتَ الَّذِیۡ یُکَذِّبُ بِالدِّیۡنِ\n",
      "Translation: Seest thou one who denies the Judgment (to come)?\n"
     ]
    }
   ],
   "source": [
    "for i, result in enumerate(results2, 1):\n",
    "    print(f\"Score: {result['score']:.4f}\")\n",
    "    print(f\"Verse ID: {result['id']}\")\n",
    "    print(f\"Arabic: {result['arabic']}\")\n",
    "    print(f\"Translation: {result['translation']}\")"
   ]
  },
  {
   "cell_type": "code",
   "execution_count": null,
   "id": "de0ec0c6-0903-4a43-b693-23980911cfe4",
   "metadata": {},
   "outputs": [],
   "source": []
  }
 ],
 "metadata": {
  "kernelspec": {
   "display_name": "Python 3 (ipykernel)",
   "language": "python",
   "name": "python3"
  },
  "language_info": {
   "codemirror_mode": {
    "name": "ipython",
    "version": 3
   },
   "file_extension": ".py",
   "mimetype": "text/x-python",
   "name": "python",
   "nbconvert_exporter": "python",
   "pygments_lexer": "ipython3",
   "version": "3.11.13"
  }
 },
 "nbformat": 4,
 "nbformat_minor": 5
}
