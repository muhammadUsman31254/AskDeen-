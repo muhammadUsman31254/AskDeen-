{
 "cells": [
  {
   "cell_type": "code",
   "execution_count": 1,
   "id": "201f223d-2150-4f06-949f-fd5bf15de0dd",
   "metadata": {},
   "outputs": [],
   "source": [
    "import pandas as pd\n",
    "import numpy as np"
   ]
  },
  {
   "cell_type": "code",
   "execution_count": 2,
   "id": "a8e71726-037d-4186-818b-3cfb1fb09764",
   "metadata": {},
   "outputs": [],
   "source": [
    "# Load & preprocess data\n",
    "df=pd.read_excel(\"Testing File.xlsx\")"
   ]
  },
  {
   "cell_type": "code",
   "execution_count": 3,
   "id": "2b914970-e990-4080-ba7f-7e5dd4ce0d8d",
   "metadata": {},
   "outputs": [
    {
     "data": {
      "text/plain": [
       "(564, 2)"
      ]
     },
     "execution_count": 3,
     "metadata": {},
     "output_type": "execute_result"
    }
   ],
   "source": [
    "df.shape"
   ]
  },
  {
   "cell_type": "code",
   "execution_count": 4,
   "id": "904e081e-4399-4c31-84df-deee89bd5ff2",
   "metadata": {},
   "outputs": [
    {
     "data": {
      "text/plain": [
       "Index(['ID', 'Translation'], dtype='object')"
      ]
     },
     "execution_count": 4,
     "metadata": {},
     "output_type": "execute_result"
    }
   ],
   "source": [
    "df.columns"
   ]
  },
  {
   "cell_type": "code",
   "execution_count": 5,
   "id": "2417d6e8-b740-4c7f-91a8-8444a94a75f3",
   "metadata": {},
   "outputs": [
    {
     "data": {
      "text/html": [
       "<div>\n",
       "<style scoped>\n",
       "    .dataframe tbody tr th:only-of-type {\n",
       "        vertical-align: middle;\n",
       "    }\n",
       "\n",
       "    .dataframe tbody tr th {\n",
       "        vertical-align: top;\n",
       "    }\n",
       "\n",
       "    .dataframe thead th {\n",
       "        text-align: right;\n",
       "    }\n",
       "</style>\n",
       "<table border=\"1\" class=\"dataframe\">\n",
       "  <thead>\n",
       "    <tr style=\"text-align: right;\">\n",
       "      <th></th>\n",
       "      <th>ID</th>\n",
       "      <th>Translation</th>\n",
       "    </tr>\n",
       "  </thead>\n",
       "  <tbody>\n",
       "    <tr>\n",
       "      <th>0</th>\n",
       "      <td>78|1</td>\n",
       "      <td>Concerning what are they disputing?</td>\n",
       "    </tr>\n",
       "    <tr>\n",
       "      <th>1</th>\n",
       "      <td>78|2</td>\n",
       "      <td>Concerning the Great News,</td>\n",
       "    </tr>\n",
       "    <tr>\n",
       "      <th>2</th>\n",
       "      <td>78|3</td>\n",
       "      <td>About which they cannot agree.</td>\n",
       "    </tr>\n",
       "    <tr>\n",
       "      <th>3</th>\n",
       "      <td>78|4</td>\n",
       "      <td>Verily, they shall soon (come to) know!</td>\n",
       "    </tr>\n",
       "    <tr>\n",
       "      <th>4</th>\n",
       "      <td>78|5</td>\n",
       "      <td>Verily, verily they shall soon (come to) know!</td>\n",
       "    </tr>\n",
       "    <tr>\n",
       "      <th>...</th>\n",
       "      <td>...</td>\n",
       "      <td>...</td>\n",
       "    </tr>\n",
       "    <tr>\n",
       "      <th>559</th>\n",
       "      <td>114|2</td>\n",
       "      <td>The King (or Ruler) of Mankind,</td>\n",
       "    </tr>\n",
       "    <tr>\n",
       "      <th>560</th>\n",
       "      <td>114|3</td>\n",
       "      <td>The god (or judge) of Mankind,-</td>\n",
       "    </tr>\n",
       "    <tr>\n",
       "      <th>561</th>\n",
       "      <td>114|4</td>\n",
       "      <td>From the mischief of the Whisperer (of Evil), ...</td>\n",
       "    </tr>\n",
       "    <tr>\n",
       "      <th>562</th>\n",
       "      <td>114|5</td>\n",
       "      <td>(The same) who whispers into the hearts of Man...</td>\n",
       "    </tr>\n",
       "    <tr>\n",
       "      <th>563</th>\n",
       "      <td>114|6</td>\n",
       "      <td>Among Jinns and among men.</td>\n",
       "    </tr>\n",
       "  </tbody>\n",
       "</table>\n",
       "<p>564 rows × 2 columns</p>\n",
       "</div>"
      ],
      "text/plain": [
       "        ID                                        Translation\n",
       "0     78|1                Concerning what are they disputing?\n",
       "1     78|2                         Concerning the Great News,\n",
       "2     78|3                     About which they cannot agree.\n",
       "3     78|4            Verily, they shall soon (come to) know!\n",
       "4     78|5     Verily, verily they shall soon (come to) know!\n",
       "..     ...                                                ...\n",
       "559  114|2                    The King (or Ruler) of Mankind,\n",
       "560  114|3                    The god (or judge) of Mankind,-\n",
       "561  114|4  From the mischief of the Whisperer (of Evil), ...\n",
       "562  114|5  (The same) who whispers into the hearts of Man...\n",
       "563  114|6                         Among Jinns and among men.\n",
       "\n",
       "[564 rows x 2 columns]"
      ]
     },
     "execution_count": 5,
     "metadata": {},
     "output_type": "execute_result"
    }
   ],
   "source": [
    "df"
   ]
  },
  {
   "cell_type": "code",
   "execution_count": 6,
   "id": "d271b139-6553-4135-92eb-f83c8cfc860b",
   "metadata": {},
   "outputs": [],
   "source": [
    "verses = []\n",
    "texts = []\n",
    "\n",
    "for idx, row in df.iterrows():\n",
    "    verse_id = str(row['ID'])\n",
    "    translation = str(row['Translation'])\n",
    "    \n",
    "    verses.append({\n",
    "        'id': verse_id,\n",
    "        'translation': translation\n",
    "    })\n",
    "    texts.append(translation)"
   ]
  },
  {
   "cell_type": "code",
   "execution_count": 7,
   "id": "fb2f47ac-bbd3-46ad-809f-0a31ed82c049",
   "metadata": {},
   "outputs": [],
   "source": [
    "from sentence_transformers import SentenceTransformer\n",
    "\n",
    "# Load a pretrained Sentence Transformer model\n",
    "model = SentenceTransformer(\"BAAI/bge-large-en\")"
   ]
  },
  {
   "cell_type": "code",
   "execution_count": 8,
   "id": "21da7d83-3f5f-4f55-a490-3e1ae2709aae",
   "metadata": {},
   "outputs": [
    {
     "data": {
      "text/plain": [
       "512"
      ]
     },
     "execution_count": 8,
     "metadata": {},
     "output_type": "execute_result"
    }
   ],
   "source": [
    "model.max_seq_length"
   ]
  },
  {
   "cell_type": "code",
   "execution_count": 9,
   "id": "d66edabb-375b-41d0-92ff-29396f22c73e",
   "metadata": {},
   "outputs": [
    {
     "data": {
      "application/vnd.jupyter.widget-view+json": {
       "model_id": "9cf705e4d07841a8be800a0338e24fd1",
       "version_major": 2,
       "version_minor": 0
      },
      "text/plain": [
       "Batches:   0%|          | 0/18 [00:00<?, ?it/s]"
      ]
     },
     "metadata": {},
     "output_type": "display_data"
    }
   ],
   "source": [
    "# Generate Embeddings\n",
    "embeddings = model.encode(texts, normalize_embeddings=True, convert_to_numpy=True, show_progress_bar=True)"
   ]
  },
  {
   "cell_type": "code",
   "execution_count": 10,
   "id": "fd707cd8-6a51-47e2-9bf8-5c72cc1ff04f",
   "metadata": {},
   "outputs": [
    {
     "data": {
      "text/plain": [
       "array([[-0.00343093, -0.00909118, -0.03768877, ..., -0.01089873,\n",
       "        -0.00244242, -0.01794033],\n",
       "       [ 0.01650619, -0.01127368, -0.01541262, ...,  0.01103976,\n",
       "        -0.0256019 , -0.00903833],\n",
       "       [ 0.00504742, -0.01364853, -0.03772821, ...,  0.00353611,\n",
       "        -0.04527003, -0.02437852],\n",
       "       ...,\n",
       "       [-0.0385254 , -0.008681  , -0.0197363 , ..., -0.03154683,\n",
       "        -0.04154152, -0.0011436 ],\n",
       "       [-0.00495573,  0.01731438, -0.01904378, ..., -0.00429638,\n",
       "        -0.02490644, -0.03767857],\n",
       "       [-0.00842436,  0.00151391, -0.00187488, ..., -0.00129223,\n",
       "         0.00499626, -0.01322016]], shape=(564, 1024), dtype=float32)"
      ]
     },
     "execution_count": 10,
     "metadata": {},
     "output_type": "execute_result"
    }
   ],
   "source": [
    "embeddings"
   ]
  },
  {
   "cell_type": "code",
   "execution_count": 11,
   "id": "68286d32-4199-4250-915e-031272fa4f50",
   "metadata": {},
   "outputs": [
    {
     "data": {
      "text/plain": [
       "(564, 1024)"
      ]
     },
     "execution_count": 11,
     "metadata": {},
     "output_type": "execute_result"
    }
   ],
   "source": [
    "# Embeddings shape\n",
    "embeddings.shape"
   ]
  },
  {
   "cell_type": "code",
   "execution_count": 12,
   "id": "7008a04f-35c3-4093-89e6-76fd15074313",
   "metadata": {},
   "outputs": [
    {
     "data": {
      "text/plain": [
       "1024"
      ]
     },
     "execution_count": 12,
     "metadata": {},
     "output_type": "execute_result"
    }
   ],
   "source": [
    "# Embedding dimension\n",
    "embeddings.shape[1]"
   ]
  },
  {
   "cell_type": "code",
   "execution_count": 13,
   "id": "3fdcdc61-d6be-4121-8392-502e201d8ddd",
   "metadata": {},
   "outputs": [
    {
     "data": {
      "text/plain": [
       "dtype('float32')"
      ]
     },
     "execution_count": 13,
     "metadata": {},
     "output_type": "execute_result"
    }
   ],
   "source": [
    "# Data type\n",
    "embeddings.dtype"
   ]
  },
  {
   "cell_type": "code",
   "execution_count": 15,
   "id": "12121fa2-87eb-4507-aaeb-ef2fa37a456a",
   "metadata": {},
   "outputs": [],
   "source": [
    "import faiss"
   ]
  },
  {
   "cell_type": "code",
   "execution_count": 16,
   "id": "2d17508c-cbbb-49d5-963f-d9ceead6a9d5",
   "metadata": {},
   "outputs": [],
   "source": [
    "dimension = embeddings.shape[1]\n",
    "index = faiss.IndexFlatIP(dimension)\n",
    "index.add(embeddings)"
   ]
  },
  {
   "cell_type": "code",
   "execution_count": 17,
   "id": "5795550d-3279-4d7c-a51a-b96cc35bbd81",
   "metadata": {},
   "outputs": [],
   "source": [
    "# Define Search Function\n",
    "def search_verses(query, k):\n",
    "    print(f\"Query: '{query}'\")\n",
    "    \n",
    "    # Generate query embedding\n",
    "    query_embedding = model.encode([query])\n",
    "    print(f\"Query embedding shape: {query_embedding.shape}\")\n",
    "    \n",
    "    # Normalize query embedding\n",
    "    faiss.normalize_L2(query_embedding)\n",
    "    \n",
    "    # Search\n",
    "    scores, indices = index.search(query_embedding.astype(np.float32), k)\n",
    "    print(f\"Found {len(indices[0])} results.\")\n",
    "    \n",
    "    # Format results\n",
    "    results = []\n",
    "    for score, idx in zip(scores[0], indices[0]):\n",
    "        results.append({\n",
    "            'Score': float(score),\n",
    "            'ID': verses[idx]['id'],\n",
    "            'Translation': verses[idx]['translation']\n",
    "        })\n",
    "    \n",
    "    return results"
   ]
  },
  {
   "cell_type": "code",
   "execution_count": 21,
   "id": "05e93c28-54dc-4022-8d42-cdf2c70f1ed1",
   "metadata": {},
   "outputs": [
    {
     "name": "stdout",
     "output_type": "stream",
     "text": [
      "Query: 'What happened to the people of the elephant?'\n",
      "Query embedding shape: (1, 1024)\n",
      "Found 5 results.\n"
     ]
    }
   ],
   "source": [
    "# Test Search\n",
    "query1 = \"What happened to the people of the elephant?\"\n",
    "results1 = search_verses(query1, k=5)"
   ]
  },
  {
   "cell_type": "code",
   "execution_count": 22,
   "id": "2cd7f5c1-ee36-4217-915c-2ea67d0db8cb",
   "metadata": {},
   "outputs": [
    {
     "name": "stdout",
     "output_type": "stream",
     "text": [
      "Score: 0.8540\n",
      "Verse ID: 105|1\n",
      "Translation: Seest thou not how thy Lord dealt with the Companions of the Elephant?\n",
      "Score: 0.7950\n",
      "Verse ID: 88|1\n",
      "Translation: Has the story reached thee of the overwhelming (Event)?\n",
      "Score: 0.7885\n",
      "Verse ID: 85|17\n",
      "Translation: Has the story reached thee, of the forces-\n",
      "Score: 0.7865\n",
      "Verse ID: 89|6\n",
      "Translation: Seest thou not how thy Lord dealt with the 'Ad (people),-\n",
      "Score: 0.7852\n",
      "Verse ID: 83|36\n",
      "Translation: Will not the Unbelievers have been paid back for what they did?\n"
     ]
    }
   ],
   "source": [
    "for i, result in enumerate(results1, 1):\n",
    "    print(f\"Score: {result['Score']:.4f}\")\n",
    "    print(f\"Verse ID: {result['ID']}\")\n",
    "    print(f\"Translation: {result['Translation']}\")"
   ]
  },
  {
   "cell_type": "code",
   "execution_count": null,
   "id": "addacde6-7712-4243-af9e-4914b6145a00",
   "metadata": {},
   "outputs": [],
   "source": []
  },
  {
   "cell_type": "code",
   "execution_count": 23,
   "id": "4f7e059f-19b3-4e0d-97b6-7d1549b11e7d",
   "metadata": {},
   "outputs": [
    {
     "name": "stdout",
     "output_type": "stream",
     "text": [
      "Query: 'What will happen on the Day of Judgment?'\n",
      "Query embedding shape: (1, 1024)\n",
      "Found 5 results.\n"
     ]
    }
   ],
   "source": [
    "query2 = \"What will happen on the Day of Judgment?\"\n",
    "results2 = search_verses(query2, k=5)"
   ]
  },
  {
   "cell_type": "code",
   "execution_count": 24,
   "id": "47c6b4c4-fc19-4684-9df4-08e4fed49c8a",
   "metadata": {},
   "outputs": [
    {
     "name": "stdout",
     "output_type": "stream",
     "text": [
      "Score: 0.9329\n",
      "Verse ID: 82|17\n",
      "Translation: And what will explain to thee what the Day of Judgment is?\n",
      "Score: 0.9258\n",
      "Verse ID: 82|18\n",
      "Translation: Again, what will explain to thee what the Day of Judgment is?\n",
      "Score: 0.8980\n",
      "Verse ID: 82|15\n",
      "Translation: Which they will enter on the Day of Judgment,\n",
      "Score: 0.8921\n",
      "Verse ID: 85|2\n",
      "Translation: By the promised Day (of Judgment);\n",
      "Score: 0.8738\n",
      "Verse ID: 95|7\n",
      "Translation: Then what can, after this, contradict thee, as to the judgment (to come)?\n"
     ]
    }
   ],
   "source": [
    "for i, result in enumerate(results2, 1):\n",
    "    print(f\"Score: {result['Score']:.4f}\")\n",
    "    print(f\"Verse ID: {result['ID']}\")\n",
    "    print(f\"Translation: {result['Translation']}\")"
   ]
  },
  {
   "cell_type": "code",
   "execution_count": null,
   "id": "608f6c91-d921-4a14-9e31-cd6fdb1bceed",
   "metadata": {},
   "outputs": [],
   "source": []
  },
  {
   "cell_type": "code",
   "execution_count": 36,
   "id": "ed0f80b4-dbe6-4a5d-889a-dc6c17baf4c9",
   "metadata": {},
   "outputs": [
    {
     "name": "stdout",
     "output_type": "stream",
     "text": [
      "Query: 'What is said about helping the needy and feeding the poor?'\n",
      "Query embedding shape: (1, 1024)\n",
      "Found 5 results.\n"
     ]
    }
   ],
   "source": [
    "query3 = \"What is said about helping the needy and feeding the poor?\"\n",
    "results3 = search_verses(query3, k=5)"
   ]
  },
  {
   "cell_type": "code",
   "execution_count": 37,
   "id": "57768ad6-7c39-497b-8681-eabd26bb111b",
   "metadata": {},
   "outputs": [
    {
     "name": "stdout",
     "output_type": "stream",
     "text": [
      "Score: 0.8438\n",
      "Verse ID: 89|18\n",
      "Translation: Nor do ye encourage one another to feed the poor!-\n",
      "Score: 0.8357\n",
      "Verse ID: 90|14\n",
      "Translation: Or the giving of food in a day of privation\n",
      "Score: 0.8306\n",
      "Verse ID: 93|6\n",
      "Translation: Did He not find thee an orphan and give thee shelter (and care)?\n",
      "Score: 0.7992\n",
      "Verse ID: 96|10\n",
      "Translation: A votary when he (turns) to pray?\n",
      "Score: 0.7975\n",
      "Verse ID: 106|4\n",
      "Translation: Who provides them with food against hunger, and with security against fear (of danger).\n"
     ]
    }
   ],
   "source": [
    "for i, result in enumerate(results3, 1):\n",
    "    print(f\"Score: {result['Score']:.4f}\")\n",
    "    print(f\"Verse ID: {result['ID']}\")\n",
    "    print(f\"Translation: {result['Translation']}\")"
   ]
  },
  {
   "cell_type": "code",
   "execution_count": null,
   "id": "1b6eb4dd-6b36-4397-802c-11932d037d70",
   "metadata": {},
   "outputs": [],
   "source": []
  }
 ],
 "metadata": {
  "kernelspec": {
   "display_name": "Python 3 (ipykernel)",
   "language": "python",
   "name": "python3"
  },
  "language_info": {
   "codemirror_mode": {
    "name": "ipython",
    "version": 3
   },
   "file_extension": ".py",
   "mimetype": "text/x-python",
   "name": "python",
   "nbconvert_exporter": "python",
   "pygments_lexer": "ipython3",
   "version": "3.11.13"
  }
 },
 "nbformat": 4,
 "nbformat_minor": 5
}
